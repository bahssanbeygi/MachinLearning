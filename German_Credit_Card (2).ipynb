{
 "cells": [
  {
   "cell_type": "code",
   "execution_count": null,
   "metadata": {},
   "outputs": [],
   "source": [
    "import helper_cleaning\n",
    "# Data Visualization\n",
    "import pandas as pd\n",
    "import numpy as np\n",
    "import matplotlib.pyplot as plt\n",
    "import seaborn as sns\n",
    "# Machine Learning\n",
    "from sklearn.svm import SVC\n",
    "from sklearn.linear_model import LogisticRegression\n",
    "from sklearn.tree import DecisionTreeClassifier\n",
    "from sklearn.ensemble import RandomForestClassifier, ExtraTreesClassifier\n",
    "from sklearn.neighbors import KNeighborsClassifier\n",
    "from sklearn.discriminant_analysis import QuadraticDiscriminantAnalysis, LinearDiscriminantAnalysis\n",
    "from sklearn.neural_network import MLPClassifier\n",
    "from sklearn.naive_bayes import GaussianNB\n",
    "from sklearn.ensemble import BaggingClassifier\n",
    "from sklearn.model_selection import train_test_split\n",
    "from sklearn.preprocessing import OneHotEncoder, MinMaxScaler\n",
    "from sklearn.compose import ColumnTransformer\n",
    "from sklearn.metrics import confusion_matrix\n",
    "from sklearn.metrics import accuracy_score\n",
    "from sklearn.model_selection import GridSearchCV, cross_val_score\n",
    "from sklearn.pipeline import Pipeline\n",
    "from sklearn.metrics import roc_auc_score\n",
    "from custom_confusion_matrix import make_confusion_matrix\n",
    "from scipy.stats import ks_2samp, kstest\n",
    "# SMOTE\n",
    "from imblearn.over_sampling import RandomOverSampler\n",
    "from sklearn.inspection import permutation_importance\n",
    "import warnings\n",
    "warnings.filterwarnings('ignore') "
   ]
  },
  {
   "cell_type": "code",
   "execution_count": null,
   "metadata": {},
   "outputs": [],
   "source": [
    "cols = [\"Status\", \"Duration_in_month\", \"Credit_history\", \"Purpose\",\n",
    "        \"Credit_amount\", \"Savings_account\", \"Present_employment_since\", \"Installment_rate\",\n",
    "        \"Personal_status\", \"Other_debtors\", \"Present_residence\", \"Property\",\n",
    "        \"Age\", \"Other_installment\", \"Housing\", \"Number_of_existing_credits\",\n",
    "        \"Job\", \"Number_of_people\", \"Telephone\", \"foreign_worker\", \"pred\"]\n",
    "len(cols)"
   ]
  },
  {
   "cell_type": "code",
   "execution_count": null,
   "metadata": {},
   "outputs": [],
   "source": [
    "dataframe = pd.read_csv(\"german.data\", delimiter=' ', header=None, names=cols)"
   ]
  },
  {
   "cell_type": "code",
   "execution_count": null,
   "metadata": {},
   "outputs": [],
   "source": [
    "dataframe.head()"
   ]
  },
  {
   "cell_type": "code",
   "execution_count": null,
   "metadata": {},
   "outputs": [],
   "source": [
    "dataframe[\"pred\"] = dataframe[\"pred\"].map({1: 0, 2:1})"
   ]
  },
  {
   "cell_type": "code",
   "execution_count": null,
   "metadata": {},
   "outputs": [],
   "source": [
    "X = dataframe.drop([\"pred\"], axis=1)\n",
    "y = dataframe[\"pred\"]"
   ]
  },
  {
   "cell_type": "code",
   "execution_count": null,
   "metadata": {},
   "outputs": [],
   "source": [
    "oversample = RandomOverSampler(sampling_strategy='minority')\n",
    "\n",
    "X_over, y_over = oversample.fit_resample(X, y)\n",
    "print(np.bincount(y_over))"
   ]
  },
  {
   "cell_type": "code",
   "execution_count": null,
   "metadata": {},
   "outputs": [],
   "source": [
    "X_train, X_test, y_train, y_test = train_test_split(X_over,\n",
    "                                                    y_over,\n",
    "                                                    test_size=0.2,\n",
    "                                                    random_state=42,\n",
    "                                                    stratify=y_over,\n",
    "                                                    shuffle=True)"
   ]
  },
  {
   "cell_type": "code",
   "execution_count": null,
   "metadata": {},
   "outputs": [],
   "source": [
    "numerical_features = X_train.select_dtypes(include='number').columns.tolist()\n",
    "categorical_features = X_train.select_dtypes(exclude='number').columns.tolist()"
   ]
  },
  {
   "cell_type": "code",
   "execution_count": null,
   "metadata": {},
   "outputs": [],
   "source": [
    "numeric_pipeline = Pipeline(steps=[\n",
    "    ('Scale', MinMaxScaler())\n",
    "])\n",
    "\n",
    "categorical_pipeline = Pipeline(steps=[\n",
    "    ('One-Hot', OneHotEncoder(handle_unknown='ignore', sparse=False))\n",
    "])"
   ]
  },
  {
   "cell_type": "code",
   "execution_count": null,
   "metadata": {},
   "outputs": [],
   "source": [
    "full_processor = ColumnTransformer(transformers=[\n",
    "    ('number', numeric_pipeline, numerical_features),\n",
    "    ('category', categorical_pipeline, categorical_features)\n",
    "])"
   ]
  },
  {
   "cell_type": "code",
   "execution_count": null,
   "metadata": {},
   "outputs": [],
   "source": [
    "X_train_transformed = full_processor.fit_transform(X_train)\n",
    "X_test_transformed = full_processor.transform(X_test)"
   ]
  },
  {
   "cell_type": "markdown",
   "metadata": {},
   "source": [
    "## Train Classifiers"
   ]
  },
  {
   "cell_type": "code",
   "execution_count": null,
   "metadata": {},
   "outputs": [],
   "source": [
    "svm_clf = SVC(random_state=42, probability=True)\n",
    "lr_clf = LogisticRegression(random_state=42)\n",
    "dt_clf = DecisionTreeClassifier(random_state=42)\n",
    "rf_clf = RandomForestClassifier(random_state=42)\n",
    "nb_clf = GaussianNB()\n",
    "knn_clf = KNeighborsClassifier()\n",
    "qda_clf = QuadraticDiscriminantAnalysis()\n",
    "lda_clf = LinearDiscriminantAnalysis()\n",
    "ann_clf = MLPClassifier(solver='adam', hidden_layer_sizes=(5, 2), random_state=1, max_iter=1000)"
   ]
  },
  {
   "cell_type": "code",
   "execution_count": null,
   "metadata": {},
   "outputs": [],
   "source": [
    "list_of_classifiers = [svm_clf, lr_clf, rf_clf, dt_clf, nb_clf, qda_clf, lda_clf, ann_clf, knn_clf]\n",
    "name_of_classifiers = [\"SVC\", \"LogisticRegression\",\"RandomForestClassifier\",\n",
    "                       \"DecisionTreeClassifier\", \"GaussianNB\", \"QuadraticDiscriminantAnalysis\",\n",
    "                       \"LinearDiscriminantAnalysis\", \"MLPClassifier\", \"KNeighborsClassifier\"]"
   ]
  },
  {
   "cell_type": "code",
   "execution_count": null,
   "metadata": {},
   "outputs": [],
   "source": [
    "results_mean = {}\n",
    "results_std = {}\n",
    "for classifier, name in zip(list_of_classifiers, name_of_classifiers):\n",
    "    scores = cross_val_score(classifier, X_train_transformed, y_train)\n",
    "    results_mean[name] = np.round(scores.mean(), decimals=2)\n",
    "    results_std[name] = np.round(scores.std(), decimals=2)"
   ]
  },
  {
   "cell_type": "code",
   "execution_count": null,
   "metadata": {},
   "outputs": [],
   "source": [
    "plt.figure(figsize=(12, 8))\n",
    "plt.bar(results_mean.keys(), results_mean.values(), yerr=results_std.values(), color=\"gray\")\n",
    "xlocs, xlabs = plt.xticks()\n",
    "for i, v in enumerate(pd.Series(results_mean)):\n",
    "    plt.text(xlocs[i], v - 0.05, str(v), ha = 'center', color=\"white\")\n",
    "plt.xticks(rotation=90)\n",
    "plt.xlabel(\"Models\")\n",
    "plt.ylabel(\"Accuracy\")\n",
    "plt.title(\"Accuracy Score\")\n",
    "plt.ylim(0.5, 0.9)\n",
    "plt.tight_layout()\n",
    "plt.show()"
   ]
  },
  {
   "cell_type": "code",
   "execution_count": null,
   "metadata": {},
   "outputs": [],
   "source": [
    "auc_scores = []\n",
    "ks = []\n",
    "for classifier, name in zip(list_of_classifiers, name_of_classifiers):\n",
    "    clf = classifier.fit(X_train_transformed, y_train)\n",
    "    ks_score = kstest(y_test, clf.predict_proba(X_test_transformed)[:, 1])\n",
    "    auc_scores.append(roc_auc_score(y_test, clf.predict_proba(X_test_transformed)[:, 1]))\n",
    "    ks.append(ks_score.statistic)"
   ]
  },
  {
   "cell_type": "code",
   "execution_count": null,
   "metadata": {},
   "outputs": [],
   "source": [
    "plt.figure(figsize=(12, 8))\n",
    "plt.bar(results_mean.keys(), auc_scores, color=\"lightcoral\")\n",
    "xlocs, xlabs = plt.xticks()\n",
    "for i, v in enumerate(np.round(auc_scores, decimals=2)):\n",
    "    plt.text(xlocs[i], v - 0.03, str(v), ha = 'center', color=\"white\")\n",
    "plt.xticks(rotation=90)\n",
    "plt.xlabel(\"Models\")\n",
    "plt.ylabel(\"Accuracy\")\n",
    "plt.title(\"AUC Score\")\n",
    "plt.ylim(0.5, 1)\n",
    "plt.tight_layout()\n",
    "plt.show()"
   ]
  },
  {
   "cell_type": "code",
   "execution_count": null,
   "metadata": {},
   "outputs": [],
   "source": [
    "plt.figure(figsize=(12, 8))\n",
    "plt.bar(results_mean.keys(), ks, color=\"lightblue\")\n",
    "xlocs, xlabs = plt.xticks()\n",
    "for i, v in enumerate(np.round(ks, decimals=3)):\n",
    "    plt.text(xlocs[i], v - 0.03, str(v), ha = 'center', color=\"black\")\n",
    "plt.xticks(rotation=90)\n",
    "plt.xlabel(\"Models\")\n",
    "plt.ylabel(\"KS Accuracy\")\n",
    "plt.title(\"KS Score\")\n",
    "plt.tight_layout()\n",
    "plt.show()"
   ]
  },
  {
   "cell_type": "code",
   "execution_count": null,
   "metadata": {},
   "outputs": [],
   "source": [
    "from collections import defaultdict\n",
    "\n",
    "from scipy.stats import spearmanr\n",
    "from scipy.cluster import hierarchy"
   ]
  },
  {
   "cell_type": "code",
   "execution_count": null,
   "metadata": {},
   "outputs": [],
   "source": [
    "feature_names = helper_cleaning.get_feature_names_mixture_column_transformer(\n",
    "    full_processor,\n",
    "    categorical_features,\n",
    "    \"number\",\n",
    "    \"category\")\n",
    "importances = rf_clf.feature_importances_"
   ]
  },
  {
   "cell_type": "code",
   "execution_count": null,
   "metadata": {},
   "outputs": [],
   "source": [
    "forest_importances = pd.Series(importances, index=feature_names)\n",
    "forest_importances.sort_values(ascending=False, inplace=True)\n",
    "importance_mask = np.where(forest_importances > .07, 1, 0)"
   ]
  },
  {
   "cell_type": "code",
   "execution_count": null,
   "metadata": {},
   "outputs": [],
   "source": [
    "color_important = [\"lightcoral\" if important == 1 else \"gray\" for important, value in zip(importance_mask, forest_importances)]"
   ]
  },
  {
   "cell_type": "code",
   "execution_count": null,
   "metadata": {},
   "outputs": [],
   "source": [
    "plt.figure(figsize=(15, 8))\n",
    "sns.barplot(x=forest_importances.index, y=forest_importances.values,\n",
    "            palette=color_important)\n",
    "plt.title(\"Feature importances using MDI\")\n",
    "plt.ylabel(\"Importance\")\n",
    "plt.xticks(rotation=90)\n",
    "plt.tight_layout()\n",
    "plt.show()"
   ]
  },
  {
   "cell_type": "code",
   "execution_count": null,
   "metadata": {},
   "outputs": [],
   "source": [
    "result = permutation_importance(\n",
    "    rf_clf, X_train_transformed, y_train, n_repeats=10, random_state=42)\n",
    "\n",
    "forest_importances_permutation = pd.Series(result.importances_mean, index=feature_names)\n",
    "forest_importances_permutation.sort_values(ascending=False, inplace=True)"
   ]
  },
  {
   "cell_type": "code",
   "execution_count": null,
   "metadata": {},
   "outputs": [],
   "source": [
    "permutation_importance_mask = np.where(forest_importances > .03, 1, 0)\n",
    "color_important_permutation = [\"lightcoral\" if important == 1 else \"gray\" for important, value in zip(permutation_importance_mask, forest_importances)]"
   ]
  },
  {
   "cell_type": "code",
   "execution_count": null,
   "metadata": {},
   "outputs": [],
   "source": [
    "plt.figure(figsize=(15, 8))\n",
    "sns.barplot(x=forest_importances_permutation.index, y=forest_importances_permutation.values,\n",
    "            palette=color_important_permutation)\n",
    "plt.title(\"Feature importances using permutation on full model\")\n",
    "plt.ylabel(\"Mean accuracy decrease\")\n",
    "plt.xticks(rotation=90)\n",
    "plt.tight_layout()\n",
    "plt.show()"
   ]
  },
  {
   "cell_type": "code",
   "execution_count": null,
   "metadata": {},
   "outputs": [],
   "source": [
    "fig, (ax1, ax2) = plt.subplots(1, 2, figsize=(12, 8))\n",
    "corr = spearmanr(X_train_transformed).correlation\n",
    "corr_linkage = hierarchy.ward(corr)\n",
    "dendro = hierarchy.dendrogram(\n",
    "    corr_linkage, labels=feature_names, ax=ax1, leaf_rotation=90\n",
    ")\n",
    "dendro_idx = np.arange(0, len(dendro['ivl']))\n",
    "\n",
    "ax2.imshow(corr[dendro['leaves'], :][:, dendro['leaves']])\n",
    "ax2.set_xticks(dendro_idx)\n",
    "ax2.set_yticks(dendro_idx)\n",
    "ax2.set_xticklabels(dendro['ivl'], rotation='vertical')\n",
    "ax2.set_yticklabels(dendro['ivl'])\n",
    "fig.tight_layout()\n",
    "plt.show()"
   ]
  },
  {
   "cell_type": "code",
   "execution_count": null,
   "metadata": {},
   "outputs": [],
   "source": [
    "cluster_ids = hierarchy.fcluster(corr_linkage, 2, criterion='distance')\n",
    "cluster_id_to_feature_ids = defaultdict(list)\n",
    "for idx, cluster_id in enumerate(cluster_ids):\n",
    "    cluster_id_to_feature_ids[cluster_id].append(idx)\n",
    "selected_features = [v[0] for v in cluster_id_to_feature_ids.values()]\n",
    "\n",
    "X_train_sel = X_train_transformed[:, selected_features]\n",
    "X_test_sel = X_test_transformed[:, selected_features]\n",
    "\n",
    "clf_sel = RandomForestClassifier(n_estimators=100, random_state=42)\n",
    "clf_sel.fit(X_train_sel, y_train)\n",
    "print(\"Accuracy on Validation data with features removed: {:.2f} %\".format(\n",
    "      clf_sel.score(X_test_sel, y_test) * 100))"
   ]
  },
  {
   "cell_type": "code",
   "execution_count": null,
   "metadata": {},
   "outputs": [],
   "source": [
    "print(\"Selected Features: {}\".format(len(selected_features)))"
   ]
  },
  {
   "cell_type": "code",
   "execution_count": null,
   "metadata": {},
   "outputs": [],
   "source": [
    "print(\"Original Features: {}\".format(X_train_transformed.shape[1]))"
   ]
  },
  {
   "cell_type": "code",
   "execution_count": null,
   "metadata": {},
   "outputs": [],
   "source": [
    "!pip install mlxtend"
   ]
  },
  {
   "cell_type": "markdown",
   "metadata": {},
   "source": [
    "# DT, ADA, RF"
   ]
  },
  {
   "cell_type": "code",
   "execution_count": null,
   "metadata": {},
   "outputs": [],
   "source": [
    "from mlxtend.classifier import StackingCVClassifier\n",
    "\n",
    "\n",
    "svm_clf = SVC(random_state=42, probability=True)\n",
    "knn_clf = KNeighborsClassifier(n_neighbors=5)\n",
    "rf_clf = RandomForestClassifier(random_state=1)\n",
    "ada_clf = AdaBoostClassifier(random_state=1)\n",
    "dt_clf = DecisionTreeClassifier(random_state=1,\n",
    "                              max_depth=None)\n",
    "\n",
    "lr = LogisticRegression(random_state=1)\n",
    "\n",
    "sclf_1 = StackingCVClassifier(classifiers=[dt_clf, ada_clf, rf_clf], \n",
    "                          meta_classifier=dt_clf, cv=10)\n",
    "\n",
    "\n",
    "sclf_1.fit(X_train_sel, y_train)\n",
    "print(\"Train Accuracy: %0.4f\" % sclf_1.score(X_train_sel, y_train))\n",
    "print(\"Test Accuracy: %0.4f\" % sclf_1.score(X_test_sel, y_test))\n",
    "dt_ada_rf_acc = sclf_1.score(X_test_sel, y_test)"
   ]
  },
  {
   "cell_type": "markdown",
   "metadata": {},
   "source": [
    "# SVM, RF, DT"
   ]
  },
  {
   "cell_type": "code",
   "execution_count": null,
   "metadata": {},
   "outputs": [],
   "source": [
    "sclf_2 = StackingCVClassifier(classifiers=[svm_clf, rf_clf], \n",
    "                          meta_classifier=dt_clf, cv=10)\n",
    "\n",
    "\n",
    "sclf_2.fit(X_train_sel, y_train)\n",
    "print(\"Train Accuracy: %0.4f\" % sclf_2.score(X_train_sel, y_train))\n",
    "print(\"Test Accuracy: %0.4f\" % sclf_2.score(X_test_sel, y_test))\n",
    "svm_rf_dt = sclf_2.score(X_test_sel, y_test)"
   ]
  },
  {
   "cell_type": "markdown",
   "metadata": {},
   "source": [
    "# LDA, QDA, ANN"
   ]
  },
  {
   "cell_type": "code",
   "execution_count": null,
   "metadata": {},
   "outputs": [],
   "source": [
    "sclf_3 = StackingCVClassifier(classifiers=[lda_clf, qda_clf], \n",
    "                          meta_classifier=ann_clf, cv=10)\n",
    "\n",
    "\n",
    "sclf_3.fit(X_train_sel, y_train)\n",
    "print(\"Train Accuracy: %0.4f\" % sclf_3.score(X_train_sel, y_train))\n",
    "print(\"Test Accuracy: %0.4f\" % sclf_3.score(X_test_sel, y_test))\n",
    "lda_qda_ann = sclf_3.score(X_test_sel, y_test)"
   ]
  },
  {
   "cell_type": "code",
   "execution_count": null,
   "metadata": {},
   "outputs": [],
   "source": [
    "stacking_classifiers = [sclf_1, sclf_2, sclf_3]\n",
    "name_of_stacking = [\"DT, ADA, RF\", \"SVM, RF, DT\", \"LDA, QDA, ANN\"]\n",
    "stacking_auc_scores = []\n",
    "stacking_ks = []\n",
    "for classifier, name in zip(stacking_classifiers, name_of_stacking):\n",
    "    clf = classifier.fit(X_train_sel, y_train)\n",
    "    ks_score = kstest(y_test, clf.predict_proba(X_test_sel)[:, 1])\n",
    "    stacking_auc_scores.append(roc_auc_score(y_test, clf.predict_proba(X_test_sel)[:, 1]))\n",
    "    stacking_ks.append(ks_score.statistic)"
   ]
  },
  {
   "cell_type": "code",
   "execution_count": null,
   "metadata": {},
   "outputs": [],
   "source": [
    "plt.figure(figsize=(12, 8))\n",
    "plt.bar(name_of_stacking, stacking_auc_scores, color=\"lightcoral\")\n",
    "xlocs, xlabs = plt.xticks()\n",
    "for i, v in enumerate(np.round(stacking_auc_scores, decimals=2)):\n",
    "    plt.text(xlocs[i], v - 0.03, str(v), ha = 'center', color=\"white\")\n",
    "plt.xticks(rotation=90)\n",
    "plt.xlabel(\"Models\")\n",
    "plt.ylabel(\"Accuracy\")\n",
    "plt.title(\"16 Features Stacking AUC Score\")\n",
    "plt.ylim(0.5, 1)\n",
    "plt.tight_layout()\n",
    "plt.show()"
   ]
  },
  {
   "cell_type": "code",
   "execution_count": null,
   "metadata": {},
   "outputs": [],
   "source": [
    "plt.figure(figsize=(12, 8))\n",
    "plt.bar(name_of_stacking, stacking_ks, color=\"lightblue\")\n",
    "xlocs, xlabs = plt.xticks()\n",
    "for i, v in enumerate(np.round(stacking_ks, decimals=4)):\n",
    "    plt.text(xlocs[i], v - 0.03, str(v), ha = 'center', color=\"black\")\n",
    "plt.xticks(rotation=90)\n",
    "plt.xlabel(\"Models\")\n",
    "plt.ylabel(\"KS Accuracy\")\n",
    "plt.title(\"16 Features Stacking KS Score\")\n",
    "plt.tight_layout()\n",
    "plt.show()"
   ]
  },
  {
   "cell_type": "code",
   "execution_count": null,
   "metadata": {},
   "outputs": [],
   "source": []
  }
 ],
 "metadata": {
  "kernelspec": {
   "display_name": "Python 3",
   "language": "python",
   "name": "python3"
  },
  "language_info": {
   "codemirror_mode": {
    "name": "ipython",
    "version": 3
   },
   "file_extension": ".py",
   "mimetype": "text/x-python",
   "name": "python",
   "nbconvert_exporter": "python",
   "pygments_lexer": "ipython3",
   "version": "3.9.5"
  }
 },
 "nbformat": 4,
 "nbformat_minor": 4
}
