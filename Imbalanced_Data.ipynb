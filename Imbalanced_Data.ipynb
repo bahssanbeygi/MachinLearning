{
  "cells": [
    {
      "cell_type": "code",
      "execution_count": 4,
      "metadata": {
        "id": "nr8qMwie_HzY"
      },
      "outputs": [],
      "source": [
        "import pandas as pd\n",
        "import numpy as np\n",
        "import matplotlib.pyplot as plt\n",
        "import seaborn as sns\n",
        "\n",
        "from sklearn.linear_model import LogisticRegression\n",
        "from sklearn.tree import DecisionTreeClassifier\n",
        "from sklearn.ensemble import RandomForestClassifier\n",
        "from sklearn.metrics import accuracy_score, f1_score, precision_score, recall_score\n",
        "from sklearn.metrics import confusion_matrix, roc_auc_score, roc_curve, classification_report, precision_recall_curve\n",
        "from sklearn.model_selection import train_test_split, cross_val_score, StratifiedKFold, GridSearchCV, RandomizedSearchCV\n",
        "\n",
        "from collections import Counter"
      ]
    },
    {
      "cell_type": "code",
      "source": [],
      "metadata": {
        "id": "SBuMfxw6_XcU"
      },
      "execution_count": 4,
      "outputs": []
    },
    {
      "cell_type": "code",
      "execution_count": 6,
      "metadata": {
        "id": "AGBvPWYB_Hza",
        "outputId": "b4d5a35d-81bd-4e1d-c1f9-7d4719cb6b99",
        "colab": {
          "base_uri": "https://localhost:8080/",
          "height": 321
        }
      },
      "outputs": [
        {
          "output_type": "error",
          "ename": "FileNotFoundError",
          "evalue": "[Errno 2] No such file or directory: 'D:\\x0cinal-behnaz\\x0cinal\\\\chapters\\\\code\\\\churn_prediction.csv'",
          "traceback": [
            "\u001b[0;31m---------------------------------------------------------------------------\u001b[0m",
            "\u001b[0;31mFileNotFoundError\u001b[0m                         Traceback (most recent call last)",
            "\u001b[0;32m<ipython-input-6-55a48154bb12>\u001b[0m in \u001b[0;36m<cell line: 1>\u001b[0;34m()\u001b[0m\n\u001b[0;32m----> 1\u001b[0;31m \u001b[0mdf\u001b[0m \u001b[0;34m=\u001b[0m \u001b[0mpd\u001b[0m\u001b[0;34m.\u001b[0m\u001b[0mread_csv\u001b[0m\u001b[0;34m(\u001b[0m\u001b[0;34m\"D:\\final-behnaz\\final\\chapters\\code\\churn_prediction.csv\"\u001b[0m\u001b[0;34m)\u001b[0m\u001b[0;34m\u001b[0m\u001b[0;34m\u001b[0m\u001b[0m\n\u001b[0m\u001b[1;32m      2\u001b[0m \u001b[0mdf\u001b[0m\u001b[0;34m.\u001b[0m\u001b[0mshape\u001b[0m\u001b[0;34m\u001b[0m\u001b[0;34m\u001b[0m\u001b[0m\n",
            "\u001b[0;32m/usr/local/lib/python3.10/dist-packages/pandas/io/parsers/readers.py\u001b[0m in \u001b[0;36mread_csv\u001b[0;34m(filepath_or_buffer, sep, delimiter, header, names, index_col, usecols, dtype, engine, converters, true_values, false_values, skipinitialspace, skiprows, skipfooter, nrows, na_values, keep_default_na, na_filter, verbose, skip_blank_lines, parse_dates, infer_datetime_format, keep_date_col, date_parser, date_format, dayfirst, cache_dates, iterator, chunksize, compression, thousands, decimal, lineterminator, quotechar, quoting, doublequote, escapechar, comment, encoding, encoding_errors, dialect, on_bad_lines, delim_whitespace, low_memory, memory_map, float_precision, storage_options, dtype_backend)\u001b[0m\n\u001b[1;32m   1024\u001b[0m     \u001b[0mkwds\u001b[0m\u001b[0;34m.\u001b[0m\u001b[0mupdate\u001b[0m\u001b[0;34m(\u001b[0m\u001b[0mkwds_defaults\u001b[0m\u001b[0;34m)\u001b[0m\u001b[0;34m\u001b[0m\u001b[0;34m\u001b[0m\u001b[0m\n\u001b[1;32m   1025\u001b[0m \u001b[0;34m\u001b[0m\u001b[0m\n\u001b[0;32m-> 1026\u001b[0;31m     \u001b[0;32mreturn\u001b[0m \u001b[0m_read\u001b[0m\u001b[0;34m(\u001b[0m\u001b[0mfilepath_or_buffer\u001b[0m\u001b[0;34m,\u001b[0m \u001b[0mkwds\u001b[0m\u001b[0;34m)\u001b[0m\u001b[0;34m\u001b[0m\u001b[0;34m\u001b[0m\u001b[0m\n\u001b[0m\u001b[1;32m   1027\u001b[0m \u001b[0;34m\u001b[0m\u001b[0m\n\u001b[1;32m   1028\u001b[0m \u001b[0;34m\u001b[0m\u001b[0m\n",
            "\u001b[0;32m/usr/local/lib/python3.10/dist-packages/pandas/io/parsers/readers.py\u001b[0m in \u001b[0;36m_read\u001b[0;34m(filepath_or_buffer, kwds)\u001b[0m\n\u001b[1;32m    618\u001b[0m \u001b[0;34m\u001b[0m\u001b[0m\n\u001b[1;32m    619\u001b[0m     \u001b[0;31m# Create the parser.\u001b[0m\u001b[0;34m\u001b[0m\u001b[0;34m\u001b[0m\u001b[0m\n\u001b[0;32m--> 620\u001b[0;31m     \u001b[0mparser\u001b[0m \u001b[0;34m=\u001b[0m \u001b[0mTextFileReader\u001b[0m\u001b[0;34m(\u001b[0m\u001b[0mfilepath_or_buffer\u001b[0m\u001b[0;34m,\u001b[0m \u001b[0;34m**\u001b[0m\u001b[0mkwds\u001b[0m\u001b[0;34m)\u001b[0m\u001b[0;34m\u001b[0m\u001b[0;34m\u001b[0m\u001b[0m\n\u001b[0m\u001b[1;32m    621\u001b[0m \u001b[0;34m\u001b[0m\u001b[0m\n\u001b[1;32m    622\u001b[0m     \u001b[0;32mif\u001b[0m \u001b[0mchunksize\u001b[0m \u001b[0;32mor\u001b[0m \u001b[0miterator\u001b[0m\u001b[0;34m:\u001b[0m\u001b[0;34m\u001b[0m\u001b[0;34m\u001b[0m\u001b[0m\n",
            "\u001b[0;32m/usr/local/lib/python3.10/dist-packages/pandas/io/parsers/readers.py\u001b[0m in \u001b[0;36m__init__\u001b[0;34m(self, f, engine, **kwds)\u001b[0m\n\u001b[1;32m   1618\u001b[0m \u001b[0;34m\u001b[0m\u001b[0m\n\u001b[1;32m   1619\u001b[0m         \u001b[0mself\u001b[0m\u001b[0;34m.\u001b[0m\u001b[0mhandles\u001b[0m\u001b[0;34m:\u001b[0m \u001b[0mIOHandles\u001b[0m \u001b[0;34m|\u001b[0m \u001b[0;32mNone\u001b[0m \u001b[0;34m=\u001b[0m \u001b[0;32mNone\u001b[0m\u001b[0;34m\u001b[0m\u001b[0;34m\u001b[0m\u001b[0m\n\u001b[0;32m-> 1620\u001b[0;31m         \u001b[0mself\u001b[0m\u001b[0;34m.\u001b[0m\u001b[0m_engine\u001b[0m \u001b[0;34m=\u001b[0m \u001b[0mself\u001b[0m\u001b[0;34m.\u001b[0m\u001b[0m_make_engine\u001b[0m\u001b[0;34m(\u001b[0m\u001b[0mf\u001b[0m\u001b[0;34m,\u001b[0m \u001b[0mself\u001b[0m\u001b[0;34m.\u001b[0m\u001b[0mengine\u001b[0m\u001b[0;34m)\u001b[0m\u001b[0;34m\u001b[0m\u001b[0;34m\u001b[0m\u001b[0m\n\u001b[0m\u001b[1;32m   1621\u001b[0m \u001b[0;34m\u001b[0m\u001b[0m\n\u001b[1;32m   1622\u001b[0m     \u001b[0;32mdef\u001b[0m \u001b[0mclose\u001b[0m\u001b[0;34m(\u001b[0m\u001b[0mself\u001b[0m\u001b[0;34m)\u001b[0m \u001b[0;34m->\u001b[0m \u001b[0;32mNone\u001b[0m\u001b[0;34m:\u001b[0m\u001b[0;34m\u001b[0m\u001b[0;34m\u001b[0m\u001b[0m\n",
            "\u001b[0;32m/usr/local/lib/python3.10/dist-packages/pandas/io/parsers/readers.py\u001b[0m in \u001b[0;36m_make_engine\u001b[0;34m(self, f, engine)\u001b[0m\n\u001b[1;32m   1878\u001b[0m                 \u001b[0;32mif\u001b[0m \u001b[0;34m\"b\"\u001b[0m \u001b[0;32mnot\u001b[0m \u001b[0;32min\u001b[0m \u001b[0mmode\u001b[0m\u001b[0;34m:\u001b[0m\u001b[0;34m\u001b[0m\u001b[0;34m\u001b[0m\u001b[0m\n\u001b[1;32m   1879\u001b[0m                     \u001b[0mmode\u001b[0m \u001b[0;34m+=\u001b[0m \u001b[0;34m\"b\"\u001b[0m\u001b[0;34m\u001b[0m\u001b[0;34m\u001b[0m\u001b[0m\n\u001b[0;32m-> 1880\u001b[0;31m             self.handles = get_handle(\n\u001b[0m\u001b[1;32m   1881\u001b[0m                 \u001b[0mf\u001b[0m\u001b[0;34m,\u001b[0m\u001b[0;34m\u001b[0m\u001b[0;34m\u001b[0m\u001b[0m\n\u001b[1;32m   1882\u001b[0m                 \u001b[0mmode\u001b[0m\u001b[0;34m,\u001b[0m\u001b[0;34m\u001b[0m\u001b[0;34m\u001b[0m\u001b[0m\n",
            "\u001b[0;32m/usr/local/lib/python3.10/dist-packages/pandas/io/common.py\u001b[0m in \u001b[0;36mget_handle\u001b[0;34m(path_or_buf, mode, encoding, compression, memory_map, is_text, errors, storage_options)\u001b[0m\n\u001b[1;32m    871\u001b[0m         \u001b[0;32mif\u001b[0m \u001b[0mioargs\u001b[0m\u001b[0;34m.\u001b[0m\u001b[0mencoding\u001b[0m \u001b[0;32mand\u001b[0m \u001b[0;34m\"b\"\u001b[0m \u001b[0;32mnot\u001b[0m \u001b[0;32min\u001b[0m \u001b[0mioargs\u001b[0m\u001b[0;34m.\u001b[0m\u001b[0mmode\u001b[0m\u001b[0;34m:\u001b[0m\u001b[0;34m\u001b[0m\u001b[0;34m\u001b[0m\u001b[0m\n\u001b[1;32m    872\u001b[0m             \u001b[0;31m# Encoding\u001b[0m\u001b[0;34m\u001b[0m\u001b[0;34m\u001b[0m\u001b[0m\n\u001b[0;32m--> 873\u001b[0;31m             handle = open(\n\u001b[0m\u001b[1;32m    874\u001b[0m                 \u001b[0mhandle\u001b[0m\u001b[0;34m,\u001b[0m\u001b[0;34m\u001b[0m\u001b[0;34m\u001b[0m\u001b[0m\n\u001b[1;32m    875\u001b[0m                 \u001b[0mioargs\u001b[0m\u001b[0;34m.\u001b[0m\u001b[0mmode\u001b[0m\u001b[0;34m,\u001b[0m\u001b[0;34m\u001b[0m\u001b[0;34m\u001b[0m\u001b[0m\n",
            "\u001b[0;31mFileNotFoundError\u001b[0m: [Errno 2] No such file or directory: 'D:\\x0cinal-behnaz\\x0cinal\\\\chapters\\\\code\\\\churn_prediction.csv'"
          ]
        }
      ],
      "source": [
        "df = pd.read_csv(\"D:\\final-behnaz\\final\\chapters\\code\\churn_prediction.csv\")\n",
        "df.shape"
      ]
    },
    {
      "cell_type": "code",
      "execution_count": null,
      "metadata": {
        "id": "wrKW02IY_Hzc"
      },
      "outputs": [],
      "source": [
        "df['churn'].value_counts()"
      ]
    },
    {
      "cell_type": "markdown",
      "metadata": {
        "id": "FArF9SlS_Hzd"
      },
      "source": [
        "## Data Preprocessing"
      ]
    },
    {
      "cell_type": "code",
      "execution_count": null,
      "metadata": {
        "id": "Cjolh1LE_Hze"
      },
      "outputs": [],
      "source": [
        "df.isnull().sum()"
      ]
    },
    {
      "cell_type": "markdown",
      "metadata": {
        "id": "HGK11QP7_Hzf"
      },
      "source": [
        "### `a) Missing Value Treatment`"
      ]
    },
    {
      "cell_type": "code",
      "execution_count": null,
      "metadata": {
        "id": "XGrOxhMv_Hzg"
      },
      "outputs": [],
      "source": [
        "#Convert Gender\n",
        "dict_gender = {'Male': 1, 'Female':0}\n",
        "df.replace({'gender': dict_gender}, inplace = True)\n",
        "\n",
        "# Replace with -1 for missing gender\n",
        "df['gender'] = df['gender'].fillna(-1)\n",
        "\n",
        "# Replacing with max. occurence values\n",
        "df['dependents'] = df['dependents'].fillna(0)\n",
        "df['occupation'] = df['occupation'].fillna('self_employed')\n",
        "df['city'] = df['city'].fillna(1020)"
      ]
    },
    {
      "cell_type": "markdown",
      "metadata": {
        "id": "T9yzAdX4_Hzh"
      },
      "source": [
        "### `b) Dummy variables`"
      ]
    },
    {
      "cell_type": "code",
      "execution_count": null,
      "metadata": {
        "id": "vZZ_M1kt_Hzi"
      },
      "outputs": [],
      "source": [
        "# Convert occupation to one hot encoded features\n",
        "df = pd.concat([df,pd.get_dummies(df['occupation'],prefix = str('occupation'),prefix_sep='_')],axis = 1)"
      ]
    },
    {
      "cell_type": "code",
      "execution_count": null,
      "metadata": {
        "id": "xJ_wBhgj_Hzj"
      },
      "outputs": [],
      "source": [
        "df.head()"
      ]
    },
    {
      "cell_type": "markdown",
      "metadata": {
        "id": "dZqGcUer_Hzk"
      },
      "source": [
        "# Train and Test Split"
      ]
    },
    {
      "cell_type": "code",
      "execution_count": null,
      "metadata": {
        "id": "qdxp8KDg_Hzk"
      },
      "outputs": [],
      "source": [
        "#x = df.drop('Attrition', axis=1)\n",
        "x = df.drop(['churn','customer_id', 'occupation', 'last_transaction'], axis=1)\n",
        "y = df['churn']\n",
        "# Splitting the data into train and test\n",
        "X_train,X_test,y_train,y_test=train_test_split(x, y, train_size=0.8, stratify = y, random_state=100)"
      ]
    },
    {
      "cell_type": "code",
      "execution_count": null,
      "metadata": {
        "id": "oUnIdlrG_Hzk"
      },
      "outputs": [],
      "source": [
        "y_train.shape, y_test.shape"
      ]
    },
    {
      "cell_type": "code",
      "execution_count": null,
      "metadata": {
        "id": "x98S3t-a_Hzl"
      },
      "outputs": [],
      "source": [
        "y_train.value_counts()/len(y_train)"
      ]
    },
    {
      "cell_type": "code",
      "execution_count": null,
      "metadata": {
        "id": "sY5gAQu1_Hzl"
      },
      "outputs": [],
      "source": [
        "y_test.value_counts()/len(y_test)"
      ]
    },
    {
      "cell_type": "code",
      "execution_count": null,
      "metadata": {
        "id": "lX3OKj-Z_Hzm"
      },
      "outputs": [],
      "source": [
        "from sklearn.preprocessing import StandardScaler\n",
        "Scaler_X = StandardScaler()\n",
        "X_train = Scaler_X.fit_transform(X_train)\n",
        "X_test = Scaler_X.transform(X_test)"
      ]
    },
    {
      "cell_type": "markdown",
      "metadata": {
        "id": "uOYUMA_D_Hzm"
      },
      "source": [
        "# Handling class imbalance using SMOTE based techniques"
      ]
    },
    {
      "cell_type": "markdown",
      "metadata": {
        "id": "THhCP_au_Hzm"
      },
      "source": [
        "### A) SMOTE Technique"
      ]
    },
    {
      "cell_type": "code",
      "execution_count": null,
      "metadata": {
        "id": "7zqCH-wG_Hzm"
      },
      "outputs": [],
      "source": [
        "from imblearn.over_sampling import SMOTE\n",
        "\n",
        "counter = Counter(y_train)\n",
        "print('Before',counter)\n",
        "# oversampling the train dataset using SMOTE\n",
        "smt = SMOTE()\n",
        "#X_train, y_train = smt.fit_resample(X_train, y_train)\n",
        "X_train_sm, y_train_sm = smt.fit_resample(X_train, y_train)\n",
        "\n",
        "counter = Counter(y_train_sm)\n",
        "print('After',counter)"
      ]
    },
    {
      "cell_type": "markdown",
      "metadata": {
        "id": "X3uhYUsW_Hzn"
      },
      "source": [
        ""
      ]
    },
    {
      "cell_type": "markdown",
      "metadata": {
        "id": "CPCgVbVu_Hzn"
      },
      "source": [
        "### B) ADASYN Technique"
      ]
    },
    {
      "cell_type": "code",
      "execution_count": null,
      "metadata": {
        "id": "4FqzlWtY_Hzn"
      },
      "outputs": [],
      "source": [
        "from imblearn.over_sampling import ADASYN\n",
        "\n",
        "counter = Counter(y_train)\n",
        "print('Before',counter)\n",
        "# oversampling the train dataset using ADASYN\n",
        "ada = ADASYN(random_state=130)\n",
        "X_train_ada, y_train_ada = ada.fit_resample(X_train, y_train)\n",
        "\n",
        "counter = Counter(y_train_ada)\n",
        "print('After',counter)\n"
      ]
    },
    {
      "cell_type": "markdown",
      "metadata": {
        "id": "HBjXGJAa_Hzo"
      },
      "source": [
        ""
      ]
    },
    {
      "cell_type": "markdown",
      "metadata": {
        "id": "lJHIvE-J_Hzo"
      },
      "source": [
        "## C) Hybrid Techniques"
      ]
    },
    {
      "cell_type": "markdown",
      "metadata": {
        "id": "idj3SpGn_Hzo"
      },
      "source": [
        ""
      ]
    },
    {
      "cell_type": "markdown",
      "metadata": {
        "id": "oBoUp0jZ_Hzo"
      },
      "source": [
        "### C.1) SMOTE + Tomek Links"
      ]
    },
    {
      "cell_type": "code",
      "execution_count": null,
      "metadata": {
        "id": "wDIbJnya_Hzp"
      },
      "outputs": [],
      "source": [
        "from imblearn.combine import SMOTETomek\n",
        "\n",
        "counter = Counter(y_train)\n",
        "print('Before',counter)\n",
        "# oversampling the train dataset using SMOTE + Tomek\n",
        "smtom = SMOTETomek(random_state=139)\n",
        "X_train_smtom, y_train_smtom = smtom.fit_resample(X_train, y_train)\n",
        "\n",
        "counter = Counter(y_train_smtom)\n",
        "print('After',counter)\n"
      ]
    },
    {
      "cell_type": "markdown",
      "metadata": {
        "id": "8ypAlYLy_Hzp"
      },
      "source": [
        ""
      ]
    },
    {
      "cell_type": "markdown",
      "metadata": {
        "id": "CXLDFN7p_Hzp"
      },
      "source": [
        "### C.2) SMOTE + ENN"
      ]
    },
    {
      "cell_type": "code",
      "execution_count": null,
      "metadata": {
        "id": "k08G-L20_Hzp"
      },
      "outputs": [],
      "source": [
        "from imblearn.combine import SMOTEENN\n",
        "\n",
        "counter = Counter(y_train)\n",
        "print('Before',counter)\n",
        "# oversampling the train dataset using SMOTE + ENN\n",
        "smenn = SMOTEENN()\n",
        "X_train_smenn, y_train_smenn = smenn.fit_resample(X_train, y_train)\n",
        "\n",
        "counter = Counter(y_train_smenn)\n",
        "print('After',counter)"
      ]
    },
    {
      "cell_type": "markdown",
      "metadata": {
        "id": "L2-xI7um_Hzq"
      },
      "source": [
        ""
      ]
    },
    {
      "cell_type": "markdown",
      "metadata": {
        "id": "Euge_sJP_Hzq"
      },
      "source": [
        "# Model Building - Imbalanced data"
      ]
    },
    {
      "cell_type": "code",
      "execution_count": null,
      "metadata": {
        "id": "iHNbLgVS_Hzr"
      },
      "outputs": [],
      "source": [
        "model = list()\n",
        "resample = list()\n",
        "precision = list()\n",
        "recall = list()\n",
        "F1score = list()\n",
        "AUCROC = list()"
      ]
    },
    {
      "cell_type": "code",
      "execution_count": null,
      "metadata": {
        "id": "bg_ezu20_Hzr"
      },
      "outputs": [],
      "source": [
        "def test_eval(clf_model, X_test, y_test, algo=None, sampling=None):\n",
        "    # Test set prediction\n",
        "    y_prob=clf_model.predict_proba(X_test)\n",
        "    y_pred=clf_model.predict(X_test)\n",
        "\n",
        "    print('Confusion Matrix')\n",
        "    print('='*60)\n",
        "    print(confusion_matrix(y_test,y_pred),\"\\n\")\n",
        "    print('Classification Report')\n",
        "    print('='*60)\n",
        "    print(classification_report(y_test,y_pred),\"\\n\")\n",
        "    print('AUC-ROC')\n",
        "    print('='*60)\n",
        "    print(roc_auc_score(y_test, y_prob[:,1]))\n",
        "\n",
        "    model.append(algo)\n",
        "    precision.append(precision_score(y_test,y_pred))\n",
        "    recall.append(recall_score(y_test,y_pred))\n",
        "    F1score.append(f1_score(y_test,y_pred))\n",
        "    AUCROC.append(roc_auc_score(y_test, y_prob[:,1]))\n",
        "    resample.append(sampling)\n"
      ]
    },
    {
      "cell_type": "markdown",
      "metadata": {
        "id": "nk4YeG5Y_Hzs"
      },
      "source": [
        "## Model-1: Logistic Regression"
      ]
    },
    {
      "cell_type": "markdown",
      "metadata": {
        "id": "KvO8QRZB_Hzs"
      },
      "source": [
        "### 1. `Original Unsampled Data`"
      ]
    },
    {
      "cell_type": "code",
      "execution_count": null,
      "metadata": {
        "id": "8WHFFyer_Hzs"
      },
      "outputs": [],
      "source": [
        "log_model=LogisticRegression()\n",
        "\n",
        "params={'C':np.logspace(-10, 1, 15),'class_weight':[None,'balanced'],'penalty':['l1','l2']}\n",
        "\n",
        "cv = StratifiedKFold(n_splits=5, random_state=100, shuffle=True)\n",
        "\n",
        "# Create grid search using 5-fold cross validation\n",
        "clf_LR = GridSearchCV(log_model, params, cv=cv, scoring='roc_auc', n_jobs=-1)\n",
        "clf_LR.fit(X_train, y_train)\n",
        "clf_LR.best_estimator_"
      ]
    },
    {
      "cell_type": "code",
      "execution_count": null,
      "metadata": {
        "id": "dRKD3mDs_Hzt"
      },
      "outputs": [],
      "source": [
        "test_eval(clf_LR, X_test, y_test, 'Logistic Regression', 'actual')"
      ]
    },
    {
      "cell_type": "markdown",
      "metadata": {
        "id": "f9aj1gla_Hzt"
      },
      "source": [
        ""
      ]
    },
    {
      "cell_type": "markdown",
      "metadata": {
        "id": "oHW1atHB_Hz0"
      },
      "source": [
        "### `2.SMOTE Resampling`"
      ]
    },
    {
      "cell_type": "code",
      "execution_count": null,
      "metadata": {
        "id": "15rnKjqv_Hz0"
      },
      "outputs": [],
      "source": [
        "clf_LR.fit(X_train_sm, y_train_sm)\n",
        "clf_LR.best_estimator_"
      ]
    },
    {
      "cell_type": "code",
      "execution_count": null,
      "metadata": {
        "id": "dhfFeaOs_Hz0"
      },
      "outputs": [],
      "source": [
        "test_eval(clf_LR, X_test, y_test, 'Logistic Regression', 'smote')"
      ]
    },
    {
      "cell_type": "markdown",
      "metadata": {
        "id": "9KkqfuiV_Hz1"
      },
      "source": [
        "### `3.ADASYN Resampling`"
      ]
    },
    {
      "cell_type": "code",
      "execution_count": null,
      "metadata": {
        "id": "eYZa5oR4_Hz1"
      },
      "outputs": [],
      "source": [
        "clf_LR.fit(X_train_ada, y_train_ada)\n",
        "clf_LR.best_estimator_"
      ]
    },
    {
      "cell_type": "code",
      "execution_count": null,
      "metadata": {
        "id": "rxY87aKB_Hz1"
      },
      "outputs": [],
      "source": [
        "test_eval(clf_LR, X_test, y_test, 'Logistic Regression', 'adasyn')"
      ]
    },
    {
      "cell_type": "markdown",
      "metadata": {
        "id": "K2am10cO_Hz1"
      },
      "source": [
        ""
      ]
    },
    {
      "cell_type": "markdown",
      "metadata": {
        "id": "N1bvVMY0_Hz2"
      },
      "source": [
        "### `4.SMOTE + Tomek Resampling`"
      ]
    },
    {
      "cell_type": "code",
      "execution_count": null,
      "metadata": {
        "id": "GmzO3VA4_Hz2"
      },
      "outputs": [],
      "source": [
        "clf_LR.fit(X_train_smtom, y_train_smtom)\n",
        "clf_LR.best_estimator_"
      ]
    },
    {
      "cell_type": "code",
      "execution_count": null,
      "metadata": {
        "id": "rxdyHNYy_Hz2"
      },
      "outputs": [],
      "source": [
        "test_eval(clf_LR, X_test, y_test, 'Logistic Regression', 'smote+tomek')"
      ]
    },
    {
      "cell_type": "markdown",
      "metadata": {
        "id": "4SY9Cdrf_Hz2"
      },
      "source": [
        "### `5.SMOTE + ENN Resampling`"
      ]
    },
    {
      "cell_type": "code",
      "execution_count": null,
      "metadata": {
        "id": "bZc-0TBF_Hz2"
      },
      "outputs": [],
      "source": [
        "clf_LR.fit(X_train_smenn, y_train_smenn)\n",
        "clf_LR.best_estimator_"
      ]
    },
    {
      "cell_type": "code",
      "execution_count": null,
      "metadata": {
        "id": "thMOf1lj_Hz2"
      },
      "outputs": [],
      "source": [
        "test_eval(clf_LR, X_test, y_test, 'Logistic Regression', 'smote+enn')"
      ]
    },
    {
      "cell_type": "markdown",
      "metadata": {
        "id": "NVYvXmnD_Hz3"
      },
      "source": [
        ""
      ]
    },
    {
      "cell_type": "markdown",
      "metadata": {
        "id": "--gTxom6_Hz3"
      },
      "source": [
        "## Model-2: Decision Tree"
      ]
    },
    {
      "cell_type": "code",
      "execution_count": null,
      "metadata": {
        "id": "Lh9JR1yK_Hz3"
      },
      "outputs": [],
      "source": [
        "estimators = [2,10,30,50,100]\n",
        "# Maximum number of depth in each tree:\n",
        "max_depth = [i for i in range(5,16,2)]\n",
        "# Minimum number of samples to consider to split a node:\n",
        "min_samples_split = [2, 5, 10, 15, 20, 50, 100]\n",
        "# Minimum number of samples to consider at each leaf node:\n",
        "min_samples_leaf = [1, 2, 5]"
      ]
    },
    {
      "cell_type": "markdown",
      "metadata": {
        "id": "dRWIMnsc_Hz3"
      },
      "source": [
        "### `1. Original Unsampled Data`"
      ]
    },
    {
      "cell_type": "code",
      "execution_count": null,
      "metadata": {
        "id": "qAO2Kbz5_Hz4"
      },
      "outputs": [],
      "source": [
        "tree_model = DecisionTreeClassifier()\n",
        "\n",
        "tree_param_grid = {\n",
        "    'max_depth': max_depth,\n",
        "    'min_samples_split': min_samples_split,\n",
        "    'min_samples_leaf': min_samples_leaf\n",
        "}\n",
        "\n",
        "clf_DT = RandomizedSearchCV(tree_model, tree_param_grid, cv=cv, scoring='roc_auc', n_jobs=-1, verbose=2)\n",
        "clf_DT.fit(X_train, y_train)\n",
        "clf_DT.best_estimator_"
      ]
    },
    {
      "cell_type": "code",
      "execution_count": null,
      "metadata": {
        "id": "yJYPXquA_Hz4"
      },
      "outputs": [],
      "source": [
        "test_eval(clf_DT, X_test, y_test, 'Decision Tree', 'actual')"
      ]
    },
    {
      "cell_type": "markdown",
      "metadata": {
        "id": "3_9NKUT__Hz4"
      },
      "source": [
        ""
      ]
    },
    {
      "cell_type": "markdown",
      "metadata": {
        "id": "M-gGbgob_Hz4"
      },
      "source": [
        "### `2.SMOTE Resampling`"
      ]
    },
    {
      "cell_type": "code",
      "execution_count": null,
      "metadata": {
        "id": "YOLj9it4_Hz4"
      },
      "outputs": [],
      "source": [
        "clf_DT.fit(X_train_sm, y_train_sm)\n",
        "clf_DT.best_estimator_"
      ]
    },
    {
      "cell_type": "code",
      "execution_count": null,
      "metadata": {
        "id": "6P4GXrkk_Hz5"
      },
      "outputs": [],
      "source": [
        "test_eval(clf_DT, X_test, y_test, 'Decision Tree', 'smote')"
      ]
    },
    {
      "cell_type": "markdown",
      "metadata": {
        "id": "J5Q17pbo_Hz5"
      },
      "source": [
        ""
      ]
    },
    {
      "cell_type": "markdown",
      "metadata": {
        "id": "Cm7Jcy0a_Hz5"
      },
      "source": [
        "### `3.ADASYN Resampling`"
      ]
    },
    {
      "cell_type": "code",
      "execution_count": null,
      "metadata": {
        "id": "hZosMuvp_Hz5"
      },
      "outputs": [],
      "source": [
        "clf_DT.fit(X_train_ada, y_train_ada)\n",
        "clf_DT.best_estimator_"
      ]
    },
    {
      "cell_type": "code",
      "execution_count": null,
      "metadata": {
        "id": "RCIyZ6Za_Hz6"
      },
      "outputs": [],
      "source": [
        "test_eval(clf_DT, X_test, y_test, 'Decision Tree', 'adasyn')"
      ]
    },
    {
      "cell_type": "markdown",
      "metadata": {
        "id": "417oddqR_Hz6"
      },
      "source": [
        ""
      ]
    },
    {
      "cell_type": "markdown",
      "metadata": {
        "id": "mGkW6Bcu_Hz6"
      },
      "source": [
        "### `4. SMOTE + Tomek Resampling`"
      ]
    },
    {
      "cell_type": "code",
      "execution_count": null,
      "metadata": {
        "id": "tPW6lgss_Hz6"
      },
      "outputs": [],
      "source": [
        "clf_DT.fit(X_train_smtom, y_train_smtom)\n",
        "clf_DT.best_estimator_"
      ]
    },
    {
      "cell_type": "code",
      "execution_count": null,
      "metadata": {
        "id": "eAk1TpZW_Hz6"
      },
      "outputs": [],
      "source": [
        "test_eval(clf_DT, X_test, y_test, 'Decision Tree', 'smote+tomek')"
      ]
    },
    {
      "cell_type": "markdown",
      "metadata": {
        "id": "G21D7w9M_Hz6"
      },
      "source": [
        ""
      ]
    },
    {
      "cell_type": "markdown",
      "metadata": {
        "id": "_aQITUuP_Hz6"
      },
      "source": [
        "### `5.SMOTE + ENN Resampling`"
      ]
    },
    {
      "cell_type": "code",
      "execution_count": null,
      "metadata": {
        "id": "hjiAULsZ_Hz7"
      },
      "outputs": [],
      "source": [
        "clf_DT.fit(X_train_smenn, y_train_smenn)\n",
        "clf_DT.best_estimator_"
      ]
    },
    {
      "cell_type": "code",
      "execution_count": null,
      "metadata": {
        "id": "ECebZZYW_Hz7"
      },
      "outputs": [],
      "source": [
        "test_eval(clf_DT, X_test, y_test, 'Decision Tree', 'smote+enn')"
      ]
    },
    {
      "cell_type": "markdown",
      "metadata": {
        "id": "wKV73Y0S_Hz7"
      },
      "source": [
        "## Model-3: Random Forest"
      ]
    },
    {
      "cell_type": "markdown",
      "metadata": {
        "id": "f95XSOXL_Hz7"
      },
      "source": [
        "### 1. `Original Unsampled Data`"
      ]
    },
    {
      "cell_type": "code",
      "execution_count": null,
      "metadata": {
        "id": "6HOs_FSf_Hz7"
      },
      "outputs": [],
      "source": [
        "rf_model = RandomForestClassifier()\n",
        "\n",
        "rf_params={'n_estimators':estimators,\n",
        "           'max_depth':max_depth,\n",
        "           'min_samples_split':min_samples_split}\n",
        "\n",
        "clf_RF = RandomizedSearchCV(rf_model, rf_params, cv=cv, scoring='roc_auc', n_jobs=-1, n_iter=20, verbose=2)\n",
        "clf_RF.fit(X_train, y_train)\n",
        "clf_RF.best_estimator_"
      ]
    },
    {
      "cell_type": "code",
      "execution_count": null,
      "metadata": {
        "id": "ye_wzGTC_Hz7"
      },
      "outputs": [],
      "source": [
        "test_eval(clf_RF, X_test, y_test, 'Random Forest', 'actual')"
      ]
    },
    {
      "cell_type": "markdown",
      "metadata": {
        "id": "ZhlHv8-n_Hz8"
      },
      "source": [
        "### `2.SMOTE Resampling`"
      ]
    },
    {
      "cell_type": "code",
      "execution_count": null,
      "metadata": {
        "id": "OTtQ-1KZ_Hz8"
      },
      "outputs": [],
      "source": [
        "clf_RF.fit(X_train_sm, y_train_sm)\n",
        "clf_RF.best_estimator_"
      ]
    },
    {
      "cell_type": "code",
      "execution_count": null,
      "metadata": {
        "id": "GpnOqc8n_Hz8"
      },
      "outputs": [],
      "source": [
        "test_eval(clf_RF, X_test, y_test, 'Random Forest', 'smote')"
      ]
    },
    {
      "cell_type": "markdown",
      "metadata": {
        "id": "MPLISh5j_Hz8"
      },
      "source": [
        ""
      ]
    },
    {
      "cell_type": "markdown",
      "metadata": {
        "id": "5pSoyYaI_Hz8"
      },
      "source": [
        "### `3.ADASYN Resampling`"
      ]
    },
    {
      "cell_type": "code",
      "execution_count": null,
      "metadata": {
        "id": "DYd8D9V1_Hz9"
      },
      "outputs": [],
      "source": [
        "clf_RF.fit(X_train_ada, y_train_ada)\n",
        "clf_RF.best_estimator_"
      ]
    },
    {
      "cell_type": "code",
      "execution_count": null,
      "metadata": {
        "id": "WwMojoUp_Hz9"
      },
      "outputs": [],
      "source": [
        "test_eval(clf_RF, X_test, y_test, 'Random Forest', 'adasyn')"
      ]
    },
    {
      "cell_type": "markdown",
      "metadata": {
        "id": "rIzMxhqt_Hz9"
      },
      "source": [
        "### `4. SMOTE + Tomek Resampling`"
      ]
    },
    {
      "cell_type": "code",
      "execution_count": null,
      "metadata": {
        "id": "gfhH4L3j_Hz-"
      },
      "outputs": [],
      "source": [
        "clf_RF.fit(X_train_smtom, y_train_smtom)\n",
        "clf_RF.best_estimator_"
      ]
    },
    {
      "cell_type": "code",
      "execution_count": null,
      "metadata": {
        "id": "vzE0m2ja_Hz-"
      },
      "outputs": [],
      "source": [
        "test_eval(clf_RF, X_test, y_test, 'Random Forest', 'smote+tomek')"
      ]
    },
    {
      "cell_type": "markdown",
      "metadata": {
        "id": "t0TsFbss_Hz-"
      },
      "source": [
        "### `5. SMOTE + ENN Resampling`"
      ]
    },
    {
      "cell_type": "code",
      "execution_count": null,
      "metadata": {
        "id": "odX4hAkc_Hz-"
      },
      "outputs": [],
      "source": [
        "clf_RF.fit(X_train_smenn, y_train_smenn)\n",
        "clf_RF.best_estimator_"
      ]
    },
    {
      "cell_type": "code",
      "execution_count": null,
      "metadata": {
        "id": "FY56Q1fM_Hz_"
      },
      "outputs": [],
      "source": [
        "test_eval(clf_RF, X_test, y_test, 'Random Forest', 'smote+enn')"
      ]
    },
    {
      "cell_type": "markdown",
      "metadata": {
        "id": "NRa9n0YI_Hz_"
      },
      "source": [
        "## Model Comparision"
      ]
    },
    {
      "cell_type": "code",
      "execution_count": null,
      "metadata": {
        "id": "lR8HlZLH_Hz_"
      },
      "outputs": [],
      "source": [
        "clf_eval_df = pd.DataFrame({'model':model,\n",
        "                            'resample':resample,\n",
        "                            'precision':precision,\n",
        "                            'recall':recall,\n",
        "                            'f1-score':F1score,\n",
        "                            'AUC-ROC':AUCROC})"
      ]
    },
    {
      "cell_type": "code",
      "execution_count": null,
      "metadata": {
        "id": "1RMoRnsR_Hz_"
      },
      "outputs": [],
      "source": [
        "clf_eval_df"
      ]
    },
    {
      "cell_type": "code",
      "execution_count": null,
      "metadata": {
        "id": "8mpxWj4Q_Hz_"
      },
      "outputs": [],
      "source": [
        "sns.set(font_scale=1.2)\n",
        "#sns.palplot(sns.color_palette())\n",
        "g = sns.FacetGrid(clf_eval_df, col=\"model\", height=5)\n",
        "g.map(sns.barplot, \"resample\", \"recall\", palette='twilight', order=[\"actual\", \"smote\", \"adasyn\", \"smote+tomek\", \"smote+enn\"])\n",
        "g.set_xticklabels(rotation=30)\n",
        "g.set_xlabels(' ', fontsize=14)\n",
        "g.set_ylabels('Recall', fontsize=14)"
      ]
    },
    {
      "cell_type": "code",
      "source": [
        "# Adding a box plot to visualize the distribution of the 'age' variable\n",
        "import pandas as pd\n",
        "import numpy as np\n",
        "import matplotlib.pyplot as plt\n",
        "import seaborn as sns\n",
        "plt.figure(figsize=(8, 6))\n",
        "sns.boxplot(x='churn', y='age', data=df)\n",
        "plt.title('Box Plot of Age vs Churn')\n",
        "plt.show()"
      ],
      "metadata": {
        "id": "5HioWSIR_aqG"
      },
      "execution_count": null,
      "outputs": []
    }
  ],
  "metadata": {
    "kernelspec": {
      "display_name": "Python 3",
      "language": "python",
      "name": "python3"
    },
    "language_info": {
      "codemirror_mode": {
        "name": "ipython",
        "version": 3
      },
      "file_extension": ".py",
      "mimetype": "text/x-python",
      "name": "python",
      "nbconvert_exporter": "python",
      "pygments_lexer": "ipython3",
      "version": "3.7.4"
    },
    "colab": {
      "provenance": [],
      "toc_visible": true
    }
  },
  "nbformat": 4,
  "nbformat_minor": 0
}